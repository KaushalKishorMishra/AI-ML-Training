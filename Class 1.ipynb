{
 "cells": [
  {
   "cell_type": "code",
   "execution_count": 1,
   "id": "b85ec3dc-746d-4616-a2d7-d68d444bebb9",
   "metadata": {},
   "outputs": [],
   "source": [
    "import pandas as pd\n",
    "import numpy as np"
   ]
  },
  {
   "cell_type": "code",
   "execution_count": 2,
   "id": "ecd13c5b-223e-47dd-9376-ca4870d15552",
   "metadata": {},
   "outputs": [],
   "source": [
    "data = pd.read_csv('./training_data.csv',delimiter=':')"
   ]
  },
  {
   "cell_type": "code",
   "execution_count": 3,
   "id": "f55cf261-2895-4af3-b394-499d8fefd675",
   "metadata": {},
   "outputs": [
    {
     "data": {
      "text/html": [
       "<div>\n",
       "<style scoped>\n",
       "    .dataframe tbody tr th:only-of-type {\n",
       "        vertical-align: middle;\n",
       "    }\n",
       "\n",
       "    .dataframe tbody tr th {\n",
       "        vertical-align: top;\n",
       "    }\n",
       "\n",
       "    .dataframe thead th {\n",
       "        text-align: right;\n",
       "    }\n",
       "</style>\n",
       "<table border=\"1\" class=\"dataframe\">\n",
       "  <thead>\n",
       "    <tr style=\"text-align: right;\">\n",
       "      <th></th>\n",
       "      <th>x</th>\n",
       "      <th>x2</th>\n",
       "      <th>y</th>\n",
       "    </tr>\n",
       "  </thead>\n",
       "  <tbody>\n",
       "    <tr>\n",
       "      <th>0</th>\n",
       "      <td>-0.228788</td>\n",
       "      <td>-2.287877</td>\n",
       "      <td>3.506056</td>\n",
       "    </tr>\n",
       "    <tr>\n",
       "      <th>1</th>\n",
       "      <td>-0.094669</td>\n",
       "      <td>-0.946690</td>\n",
       "      <td>0.782723</td>\n",
       "    </tr>\n",
       "    <tr>\n",
       "      <th>2</th>\n",
       "      <td>-0.956651</td>\n",
       "      <td>-9.566513</td>\n",
       "      <td>3.045309</td>\n",
       "    </tr>\n",
       "    <tr>\n",
       "      <th>3</th>\n",
       "      <td>-1.984509</td>\n",
       "      <td>-19.845088</td>\n",
       "      <td>3.063300</td>\n",
       "    </tr>\n",
       "    <tr>\n",
       "      <th>4</th>\n",
       "      <td>0.386115</td>\n",
       "      <td>3.861152</td>\n",
       "      <td>5.548161</td>\n",
       "    </tr>\n",
       "  </tbody>\n",
       "</table>\n",
       "</div>"
      ],
      "text/plain": [
       "          x         x2         y\n",
       "0 -0.228788  -2.287877  3.506056\n",
       "1 -0.094669  -0.946690  0.782723\n",
       "2 -0.956651  -9.566513  3.045309\n",
       "3 -1.984509 -19.845088  3.063300\n",
       "4  0.386115   3.861152  5.548161"
      ]
     },
     "execution_count": 3,
     "metadata": {},
     "output_type": "execute_result"
    }
   ],
   "source": [
    "data.head()"
   ]
  },
  {
   "cell_type": "code",
   "execution_count": 4,
   "id": "5a234bf6-e474-480a-ad05-8c418921276d",
   "metadata": {},
   "outputs": [
    {
     "data": {
      "text/plain": [
       "(1000, 3)"
      ]
     },
     "execution_count": 4,
     "metadata": {},
     "output_type": "execute_result"
    }
   ],
   "source": [
    "data.shape"
   ]
  },
  {
   "cell_type": "code",
   "execution_count": 5,
   "id": "b12e7d8e-a8d1-48fa-99eb-7f8f139d6fdd",
   "metadata": {},
   "outputs": [
    {
     "data": {
      "text/html": [
       "<div>\n",
       "<style scoped>\n",
       "    .dataframe tbody tr th:only-of-type {\n",
       "        vertical-align: middle;\n",
       "    }\n",
       "\n",
       "    .dataframe tbody tr th {\n",
       "        vertical-align: top;\n",
       "    }\n",
       "\n",
       "    .dataframe thead th {\n",
       "        text-align: right;\n",
       "    }\n",
       "</style>\n",
       "<table border=\"1\" class=\"dataframe\">\n",
       "  <thead>\n",
       "    <tr style=\"text-align: right;\">\n",
       "      <th></th>\n",
       "      <th>x</th>\n",
       "      <th>x2</th>\n",
       "      <th>y</th>\n",
       "    </tr>\n",
       "  </thead>\n",
       "  <tbody>\n",
       "    <tr>\n",
       "      <th>count</th>\n",
       "      <td>998.000000</td>\n",
       "      <td>998.000000</td>\n",
       "      <td>998.000000</td>\n",
       "    </tr>\n",
       "    <tr>\n",
       "      <th>mean</th>\n",
       "      <td>3.496300</td>\n",
       "      <td>34.963000</td>\n",
       "      <td>5.641535</td>\n",
       "    </tr>\n",
       "    <tr>\n",
       "      <th>std</th>\n",
       "      <td>3.270797</td>\n",
       "      <td>32.707971</td>\n",
       "      <td>2.696431</td>\n",
       "    </tr>\n",
       "    <tr>\n",
       "      <th>min</th>\n",
       "      <td>-3.444108</td>\n",
       "      <td>-34.441079</td>\n",
       "      <td>-0.075518</td>\n",
       "    </tr>\n",
       "    <tr>\n",
       "      <th>25%</th>\n",
       "      <td>0.118074</td>\n",
       "      <td>1.180740</td>\n",
       "      <td>3.432217</td>\n",
       "    </tr>\n",
       "    <tr>\n",
       "      <th>50%</th>\n",
       "      <td>4.011380</td>\n",
       "      <td>40.113800</td>\n",
       "      <td>5.081093</td>\n",
       "    </tr>\n",
       "    <tr>\n",
       "      <th>75%</th>\n",
       "      <td>6.306373</td>\n",
       "      <td>63.063733</td>\n",
       "      <td>8.294083</td>\n",
       "    </tr>\n",
       "    <tr>\n",
       "      <th>max</th>\n",
       "      <td>9.846538</td>\n",
       "      <td>98.465379</td>\n",
       "      <td>11.521694</td>\n",
       "    </tr>\n",
       "  </tbody>\n",
       "</table>\n",
       "</div>"
      ],
      "text/plain": [
       "                x          x2           y\n",
       "count  998.000000  998.000000  998.000000\n",
       "mean     3.496300   34.963000    5.641535\n",
       "std      3.270797   32.707971    2.696431\n",
       "min     -3.444108  -34.441079   -0.075518\n",
       "25%      0.118074    1.180740    3.432217\n",
       "50%      4.011380   40.113800    5.081093\n",
       "75%      6.306373   63.063733    8.294083\n",
       "max      9.846538   98.465379   11.521694"
      ]
     },
     "execution_count": 5,
     "metadata": {},
     "output_type": "execute_result"
    }
   ],
   "source": [
    "data.describe()"
   ]
  },
  {
   "cell_type": "code",
   "execution_count": 6,
   "id": "c95df9ae-6c53-40ae-bd1b-21c331c0589d",
   "metadata": {},
   "outputs": [
    {
     "data": {
      "text/plain": [
       "x     2\n",
       "x2    2\n",
       "y     2\n",
       "dtype: int64"
      ]
     },
     "execution_count": 6,
     "metadata": {},
     "output_type": "execute_result"
    }
   ],
   "source": [
    "data.isnull().sum()"
   ]
  },
  {
   "cell_type": "code",
   "execution_count": 18,
   "id": "b1060780-f60a-4c2f-bb08-2975ebf16353",
   "metadata": {},
   "outputs": [
    {
     "data": {
      "text/html": [
       "<div>\n",
       "<style scoped>\n",
       "    .dataframe tbody tr th:only-of-type {\n",
       "        vertical-align: middle;\n",
       "    }\n",
       "\n",
       "    .dataframe tbody tr th {\n",
       "        vertical-align: top;\n",
       "    }\n",
       "\n",
       "    .dataframe thead th {\n",
       "        text-align: right;\n",
       "    }\n",
       "</style>\n",
       "<table border=\"1\" class=\"dataframe\">\n",
       "  <thead>\n",
       "    <tr style=\"text-align: right;\">\n",
       "      <th></th>\n",
       "      <th>x</th>\n",
       "      <th>x2</th>\n",
       "      <th>y</th>\n",
       "    </tr>\n",
       "  </thead>\n",
       "  <tbody>\n",
       "    <tr>\n",
       "      <th>0</th>\n",
       "      <td>-0.228788</td>\n",
       "      <td>-2.287877</td>\n",
       "      <td>3.506056</td>\n",
       "    </tr>\n",
       "    <tr>\n",
       "      <th>1</th>\n",
       "      <td>-0.094669</td>\n",
       "      <td>-0.946690</td>\n",
       "      <td>0.782723</td>\n",
       "    </tr>\n",
       "    <tr>\n",
       "      <th>2</th>\n",
       "      <td>-0.956651</td>\n",
       "      <td>-9.566513</td>\n",
       "      <td>3.045309</td>\n",
       "    </tr>\n",
       "    <tr>\n",
       "      <th>3</th>\n",
       "      <td>-1.984509</td>\n",
       "      <td>-19.845088</td>\n",
       "      <td>3.063300</td>\n",
       "    </tr>\n",
       "    <tr>\n",
       "      <th>4</th>\n",
       "      <td>0.386115</td>\n",
       "      <td>3.861152</td>\n",
       "      <td>5.548161</td>\n",
       "    </tr>\n",
       "    <tr>\n",
       "      <th>...</th>\n",
       "      <td>...</td>\n",
       "      <td>...</td>\n",
       "      <td>...</td>\n",
       "    </tr>\n",
       "    <tr>\n",
       "      <th>995</th>\n",
       "      <td>6.090780</td>\n",
       "      <td>60.907804</td>\n",
       "      <td>6.994628</td>\n",
       "    </tr>\n",
       "    <tr>\n",
       "      <th>996</th>\n",
       "      <td>6.404440</td>\n",
       "      <td>64.044398</td>\n",
       "      <td>10.341862</td>\n",
       "    </tr>\n",
       "    <tr>\n",
       "      <th>997</th>\n",
       "      <td>6.759155</td>\n",
       "      <td>67.591547</td>\n",
       "      <td>8.604072</td>\n",
       "    </tr>\n",
       "    <tr>\n",
       "      <th>998</th>\n",
       "      <td>7.696100</td>\n",
       "      <td>76.960998</td>\n",
       "      <td>9.130374</td>\n",
       "    </tr>\n",
       "    <tr>\n",
       "      <th>999</th>\n",
       "      <td>7.035916</td>\n",
       "      <td>70.359157</td>\n",
       "      <td>7.827138</td>\n",
       "    </tr>\n",
       "  </tbody>\n",
       "</table>\n",
       "<p>1000 rows × 3 columns</p>\n",
       "</div>"
      ],
      "text/plain": [
       "            x         x2          y\n",
       "0   -0.228788  -2.287877   3.506056\n",
       "1   -0.094669  -0.946690   0.782723\n",
       "2   -0.956651  -9.566513   3.045309\n",
       "3   -1.984509 -19.845088   3.063300\n",
       "4    0.386115   3.861152   5.548161\n",
       "..        ...        ...        ...\n",
       "995  6.090780  60.907804   6.994628\n",
       "996  6.404440  64.044398  10.341862\n",
       "997  6.759155  67.591547   8.604072\n",
       "998  7.696100  76.960998   9.130374\n",
       "999  7.035916  70.359157   7.827138\n",
       "\n",
       "[1000 rows x 3 columns]"
      ]
     },
     "execution_count": 18,
     "metadata": {},
     "output_type": "execute_result"
    }
   ],
   "source": [
    "data.fillna(np.mean(data))"
   ]
  },
  {
   "cell_type": "code",
   "execution_count": 19,
   "id": "6568dc0f-79e1-4c45-a0fd-b7b6de12a9a6",
   "metadata": {},
   "outputs": [
    {
     "data": {
      "text/plain": [
       "x     0\n",
       "x2    0\n",
       "y     0\n",
       "dtype: int64"
      ]
     },
     "execution_count": 19,
     "metadata": {},
     "output_type": "execute_result"
    }
   ],
   "source": [
    "train_data.isnull().sum()"
   ]
  },
  {
   "cell_type": "code",
   "execution_count": 18,
   "id": "4d53e4de-f318-4727-a4cf-edc09b5f174f",
   "metadata": {},
   "outputs": [
    {
     "ename": "ModuleNotFoundError",
     "evalue": "No module named 'sklearn'",
     "output_type": "error",
     "traceback": [
      "\u001b[1;31m---------------------------------------------------------------------------\u001b[0m",
      "\u001b[1;31mModuleNotFoundError\u001b[0m                       Traceback (most recent call last)",
      "Cell \u001b[1;32mIn[18], line 1\u001b[0m\n\u001b[1;32m----> 1\u001b[0m \u001b[38;5;28;01mfrom\u001b[39;00m \u001b[38;5;21;01msklearn\u001b[39;00m\u001b[38;5;21;01m.\u001b[39;00m\u001b[38;5;21;01mlinear_model\u001b[39;00m \u001b[38;5;28;01mimport\u001b[39;00m LinearRegression\n",
      "\u001b[1;31mModuleNotFoundError\u001b[0m: No module named 'sklearn'"
     ]
    }
   ],
   "source": [
    "from sklearn.linear_model import LinearRegression"
   ]
  },
  {
   "cell_type": "code",
   "execution_count": null,
   "id": "a0bd909a-25c2-4928-b376-b2a47746f8d7",
   "metadata": {},
   "outputs": [],
   "source": [
    "model = LinearRegression()"
   ]
  },
  {
   "cell_type": "code",
   "execution_count": null,
   "id": "3e19da05-591e-42f5-b61e-e369584a1cec",
   "metadata": {},
   "outputs": [],
   "source": [
    "model.fit(x_train,y_train)"
   ]
  },
  {
   "cell_type": "code",
   "execution_count": null,
   "id": "0ea88fb3-5f4c-4952-a29f-d554cee358cd",
   "metadata": {},
   "outputs": [],
   "source": [
    "y=model.predict([[3]])"
   ]
  },
  {
   "cell_type": "code",
   "execution_count": null,
   "id": "53acaea7-5452-45e9-97ed-bd8eb3ee8d8a",
   "metadata": {},
   "outputs": [],
   "source": [
    "y"
   ]
  },
  {
   "cell_type": "code",
   "execution_count": null,
   "id": "87dbb647-ba68-4394-b3cc-348a5c9dc44e",
   "metadata": {},
   "outputs": [],
   "source": [
    "model.coef_"
   ]
  },
  {
   "cell_type": "code",
   "execution_count": null,
   "id": "06df0cf8-d0ad-4a73-8815-bbf7c99ab7ff",
   "metadata": {},
   "outputs": [],
   "source": [
    "model.intercept_"
   ]
  },
  {
   "cell_type": "code",
   "execution_count": null,
   "id": "e9d69465-6b02-4333-8090-a8e9dbbd1460",
   "metadata": {},
   "outputs": [],
   "source": [
    "y = model.intercept_ + model.coef_*x_train"
   ]
  },
  {
   "cell_type": "code",
   "execution_count": null,
   "id": "b9ce01dd-d16a-4175-8989-aa051150b0d5",
   "metadata": {},
   "outputs": [],
   "source": [
    "plt.sacatter(x_train,y_train)\n",
    "plt.plot(x_train,y)\n",
    "plt.xlabel(\"X\")\n",
    "plt.ylabel(\"Y\")\n",
    "plt.title(\"Regression line(Train Set):\")\n",
    "plt.show()"
   ]
  },
  {
   "cell_type": "code",
   "execution_count": null,
   "id": "f17c222c-af1c-4f78-a80c-29c5564c3110",
   "metadata": {},
   "outputs": [],
   "source": [
    "from sklearn.metrics import mean_squared_error"
   ]
  },
  {
   "cell_type": "code",
   "execution_count": null,
   "id": "ce86a15c-1e59-4d13-abf0-2bfc7698258d",
   "metadata": {},
   "outputs": [],
   "source": []
  },
  {
   "cell_type": "code",
   "execution_count": null,
   "id": "128ab7fa-1fb2-47f1-992b-61045a92f9fc",
   "metadata": {},
   "outputs": [],
   "source": []
  }
 ],
 "metadata": {
  "kernelspec": {
   "display_name": "Python 3 (ipykernel)",
   "language": "python",
   "name": "python3"
  },
  "language_info": {
   "codemirror_mode": {
    "name": "ipython",
    "version": 3
   },
   "file_extension": ".py",
   "mimetype": "text/x-python",
   "name": "python",
   "nbconvert_exporter": "python",
   "pygments_lexer": "ipython3",
   "version": "3.11.5"
  }
 },
 "nbformat": 4,
 "nbformat_minor": 5
}
